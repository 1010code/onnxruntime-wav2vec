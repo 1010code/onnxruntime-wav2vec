{
 "cells": [
  {
   "cell_type": "markdown",
   "metadata": {},
   "source": [
    "## Recording your own live-recordings\n",
    "使用 colab 錄音(預設檔名: audio_ds.wav)"
   ]
  },
  {
   "cell_type": "code",
   "execution_count": null,
   "metadata": {},
   "outputs": [],
   "source": [
    "!pip install "
   ]
  },
  {
   "cell_type": "code",
   "execution_count": null,
   "metadata": {},
   "outputs": [],
   "source": [
    "from IPython.display import Audio\n",
    "from scipy.io import wavfile\n",
    "import numpy as np\n",
    "\n",
    "# from https://gist.github.com/korakot/c21c3476c024ad6d56d5f48b0bca92be\n",
    "from IPython.display import Javascript\n",
    "from google.colab import output\n",
    "from base64 import b64decode\n",
    "\n",
    "RECORD = \"\"\"\n",
    "const sleep = time => new Promise(resolve => setTimeout(resolve, time))\n",
    "const b2text = blob => new Promise(resolve => {\n",
    "  const reader = new FileReader()\n",
    "  reader.onloadend = e => resolve(e.srcElement.result)\n",
    "  reader.readAsDataURL(blob)\n",
    "})\n",
    "var record = time => new Promise(async resolve => {\n",
    "  stream = await navigator.mediaDevices.getUserMedia({ audio: true })\n",
    "  recorder = new MediaRecorder(stream)\n",
    "  chunks = []\n",
    "  recorder.ondataavailable = e => chunks.push(e.data)\n",
    "  recorder.start()\n",
    "  await sleep(time)\n",
    "  recorder.onstop = async ()=>{\n",
    "    blob = new Blob(chunks)\n",
    "    text = await b2text(blob)\n",
    "    resolve(text)\n",
    "  }\n",
    "  recorder.stop()\n",
    "})\n",
    "\"\"\"\n",
    "\n",
    "\n",
    "def record(sec, filename=\"audio.wav\"):\n",
    "    display(Javascript(RECORD))\n",
    "    s = output.eval_js(\"record(%d)\" % (sec * 1000))\n",
    "    b = b64decode(s.split(\",\")[1])\n",
    "    with open(filename, \"wb+\") as f:\n",
    "        f.write(b)\n",
    "\n",
    "\n",
    "audio = \"audio.wav\"\n",
    "second = 5\n",
    "print(f\"Speak to your microphone {second} sec...\")\n",
    "record(second, audio)\n",
    "print(\"Done!\")\n",
    "\n",
    "# Plot Audio\n",
    "import librosa\n",
    "import librosa.display\n",
    "\n",
    "speech, rate = librosa.load(audio, sr=16000)\n",
    "librosa.display.waveplot(speech, sr=rate)\n",
    "\n",
    "import matplotlib.pyplot as plt\n",
    "\n",
    "plt.show()\n",
    "\n",
    "import pysndfile\n",
    "\n",
    "file_name = \"./audio.wav\"\n",
    "pysndfile.sndio.write(file_name, speech, rate=rate, format=\"wav\", enc=\"pcm16\")\n",
    "\n",
    "# Playing the audio file\n",
    "Audio(file_name)"
   ]
  },
  {
   "cell_type": "code",
   "execution_count": null,
   "metadata": {},
   "outputs": [],
   "source": [
    "data = wavfile.read(file_name)\n",
    "framerate = data[0]\n",
    "sounddata = data[1]\n",
    "time = np.arange(0,len(sounddata))/framerate\n",
    "print('Sample rate:',framerate,'Hz')\n",
    "print('Total time:',len(sounddata)/framerate,'s')"
   ]
  }
 ],
 "metadata": {
  "kernelspec": {
   "display_name": "Python 3",
   "language": "python",
   "name": "python3"
  },
  "language_info": {
   "codemirror_mode": {
    "name": "ipython",
    "version": 3
   },
   "file_extension": ".py",
   "mimetype": "text/x-python",
   "name": "python",
   "nbconvert_exporter": "python",
   "pygments_lexer": "ipython3",
   "version": "3.7.6"
  }
 },
 "nbformat": 4,
 "nbformat_minor": 4
}
